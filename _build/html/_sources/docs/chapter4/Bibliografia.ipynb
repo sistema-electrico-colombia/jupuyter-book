{
 "cells": [
  {
   "cell_type": "markdown",
   "metadata": {
    "id": "I5hMyrEez3ep"
   },
   "source": [
    "# Referencias\n",
    "-----\n",
    "\n",
    "Informes y Reportes:\n",
    "\n",
    "1. XM S.A. E.S.P. (2023). Informe Anual XM S.A. E.S.P.. https://informeanual.xm.com.co/demo_3/pages/xm/21-capacidad-efectiva-neta.html\n",
    "\n",
    "Artículos de Prensa:\n",
    "\n",
    "2. Portafolio. (2023, 9 de marzo). Con 48 térmicas se reforzará la matriz de generación eléctrica. https://www.portafolio.co/economia/con-48-termicas-se-reforzara-la-matriz-de-generacion-electrica-541424\n",
    "\n",
    "Sitios Web:\n",
    "\n",
    "3. XM S.A. E.S.P. (2023). ¿Qué hacemos? https://www.xm.com.co/corporativo/Paginas/Nuestra-empresa/que-hacemos.aspx\n",
    "\n",
    "4. Convención Marco de las Naciones Unidas sobre el Cambio Climático (2023). Potenciales de calentamiento global. http://unfccc.int/process/transparency-and-reporting/greenhouse-gas-data/greenhouse-gas-data-unfccc/global-warming-potentials\n",
    "\n",
    "5. XM S.A. E.S.P. (2023). Página principal. https://www.xm.com.co/Paginas/Home.aspx\n",
    "\n",
    "6. Unidad de Planificación Mineroenergética (2023). Página principal. https://www1.upme.gov.co/Paginas/default.aspx\n",
    "\n",
    "7. Wikipedia. (2023, 31 de mayo). El Niño. https://en.wikipedia.org/wiki/El_Ni%C3%B1o\n",
    "\n",
    "8. XM S.A. E.S.P. (2015). Condiciones climáticas. http://informesanuales.xm.com.co/2015/SitePages/operacion/2-1-Condiciones-climaticas.aspx\n",
    "\n",
    "9. NASA Earth Observatory. (2023). El Niño. https://earthobservatory.nasa.gov/features/ElNino\n",
    "\n",
    "10. Hidroituango S.A. E.S.P. (2023). Página principal. https://www.hidroituango.com.co/hidroituango\n",
    "\n",
    "11. Comité para la Interconexión Eléctrica (2018, 27 de noviembre). Crisis de Hidroituango podría generar racionamiento de energía en todo el país. http://www.cocier.org/index.php/en/noticias-de-cocier/1447-crisis-de-hidroituango-podria-generar-racionamiento-de-energia-en-todo-el-pais\n",
    "\n",
    "12. El País. (2020, 8 de septiembre). Errores de diseño del proyecto energético más grande de Colombia amenazaron a 100.000 personas. https://elpais.com/internacional/2020-09-08/errores-de-diseno-del-proyecto-energetico-mas-grande-de-colombia-amenazaron-a-100000-personas.html\n"
   ]
  }
 ],
 "metadata": {
  "colab": {
   "authorship_tag": "ABX9TyPpkOp5z4++Qo2VPzdU2xlV",
   "collapsed_sections": [],
   "mount_file_id": "1wiWP4VO74gDxJR7REftq_KV5rMGcx3p7",
   "name": "Notebook Principal Proyecto Final Julian Santos con Mapa.ipynb",
   "provenance": [],
   "toc_visible": true
  },
  "kernelspec": {
   "display_name": "Python 3 (ipykernel)",
   "language": "python",
   "name": "python3"
  },
  "language_info": {
   "codemirror_mode": {
    "name": "ipython",
    "version": 3
   },
   "file_extension": ".py",
   "mimetype": "text/x-python",
   "name": "python",
   "nbconvert_exporter": "python",
   "pygments_lexer": "ipython3",
   "version": "3.9.7"
  }
 },
 "nbformat": 4,
 "nbformat_minor": 1
}
