{
 "cells": [
  {
   "cell_type": "markdown",
   "metadata": {},
   "source": [
    "## **1. Presentación**"
   ]
  },
  {
   "cell_type": "markdown",
   "metadata": {},
   "source": [
    "### **1.1. Título**\n",
    "------"
   ]
  },
  {
   "cell_type": "markdown",
   "metadata": {},
   "source": [
    "Comprender el comportamiento general del precio y la demanda del sistema interconectado nacional.\n",
    "Determinar la correlacion del precio y la demanda y otras variables del sistema de generación eléctrica.\n",
    "Comprender la influencia de los fenomenos climáticos en el precio y la demanda del SIN.\n",
    "Encontrar la influencia del consumo de combustible en el precio de la eléctricidad."
   ]
  },
  {
   "cell_type": "markdown",
   "metadata": {},
   "source": [
    "### **1.2. Integrantes**\n",
    "------"
   ]
  },
  {
   "cell_type": "markdown",
   "metadata": {},
   "source": [
    "Julián Andrés Santos Méndez\n",
    "\n",
    "Juan Felipe Sepulveda Mantilla\n",
    "\n",
    "Julian Obando Scarpetta\n",
    "\n",
    "Luz Edilsa Ortiz López"
   ]
  },
  {
   "cell_type": "markdown",
   "metadata": {},
   "source": [
    "### **1.3. Pregunta de investigación**\n",
    "------"
   ]
  },
  {
   "cell_type": "markdown",
   "metadata": {},
   "source": [
    "Comprender el comportamiento general del precio y la demanda del sistema interconectado nacional.\n",
    "Determinar la correlacion del precio y la demanda y otras variables del sistema de generación eléctrica.\n",
    "Comprender la influencia de los fenomenos climáticos en el precio y la demanda del SIN.\n",
    "Encontrar la influencia del consumo de combustible en el precio de la eléctricidad."
   ]
  },
  {
   "cell_type": "markdown",
   "metadata": {},
   "source": [
    "### **1.4. Introducción**\n",
    "------"
   ]
  },
  {
   "cell_type": "markdown",
   "metadata": {},
   "source": [
    "Comprender el comportamiento general del precio y la demanda del sistema interconectado nacional.\n",
    "Determinar la correlacion del precio y la demanda y otras variables del sistema de generación eléctrica.\n",
    "Comprender la influencia de los fenomenos climáticos en el precio y la demanda del SIN.\n",
    "Encontrar la influencia del consumo de combustible en el precio de la eléctricidad."
   ]
  },
  {
   "cell_type": "markdown",
   "metadata": {
    "id": "D0jptNzkkvIc"
   },
   "source": [
    "### **1.5. Objetivos específicos**\n",
    "---"
   ]
  },
  {
   "cell_type": "markdown",
   "metadata": {
    "id": "tibLYvPHfAPf"
   },
   "source": [
    "Las metas del presente proyecto de analisis de datos son:\n",
    "\n",
    "1. Comprender el comportamiento general del precio y la demanda del sistema interconectado nacional.\n",
    "2. Determinar la correlacion del precio y la demanda y otras variables del sistema de generación eléctrica.\n",
    "3. Comprender la influencia de los fenomenos climáticos en el precio y la demanda del SIN.\n",
    "4. Encontrar la influencia del consumo de combustible en el precio de la eléctricidad."
   ]
  }
 ],
 "metadata": {
  "colab": {
   "authorship_tag": "ABX9TyPpkOp5z4++Qo2VPzdU2xlV",
   "collapsed_sections": [],
   "mount_file_id": "1wiWP4VO74gDxJR7REftq_KV5rMGcx3p7",
   "name": "Notebook Principal Proyecto Final Julian Santos con Mapa.ipynb",
   "provenance": [],
   "toc_visible": true
  },
  "kernelspec": {
   "display_name": "Python 3 (ipykernel)",
   "language": "python",
   "name": "python3"
  },
  "language_info": {
   "codemirror_mode": {
    "name": "ipython",
    "version": 3
   },
   "file_extension": ".py",
   "mimetype": "text/x-python",
   "name": "python",
   "nbconvert_exporter": "python",
   "pygments_lexer": "ipython3",
   "version": "3.9.7"
  }
 },
 "nbformat": 4,
 "nbformat_minor": 1
}
