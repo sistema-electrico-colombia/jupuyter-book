{
 "cells": [
  {
   "cell_type": "markdown",
   "metadata": {},
   "source": [
    "# Presentación"
   ]
  },
  {
   "cell_type": "markdown",
   "metadata": {},
   "source": [
    "**UNIVERSIDAD DE LA SABANA**\n",
    "\n",
    "\n",
    "\n",
    "## Título\n",
    "------"
   ]
  },
  {
   "cell_type": "markdown",
   "metadata": {},
   "source": [
    "Análisis y Modelado de los datos del Sistema Eléctrico Colombiano para comprender el comportamiento del precio y la demanda desde el año 2015.\n"
   ]
  },
  {
   "cell_type": "markdown",
   "metadata": {},
   "source": [
    "## Integrantes\n",
    "------"
   ]
  },
  {
   "cell_type": "markdown",
   "metadata": {},
   "source": [
    "Julián Andrés Santos Méndez\n",
    "\n",
    "Juan Felipe Sepulveda Mantilla\n",
    "\n",
    "Julian Obando Scarpetta\n",
    "\n",
    "Luz Edilsa Ortiz López"
   ]
  },
  {
   "cell_type": "markdown",
   "metadata": {},
   "source": [
    "## Pregunta de investigación\n",
    "------"
   ]
  },
  {
   "cell_type": "markdown",
   "metadata": {},
   "source": [
    "¿Cómo ha evolucionado el sector eléctrico en Colombia y cuál es el impacto de las energías renovables en su desarrollo futuro con relación al precio y la demanda?"
   ]
  },
  {
   "cell_type": "markdown",
   "metadata": {},
   "source": [
    "## Introducción\n",
    "------"
   ]
  },
  {
   "cell_type": "markdown",
   "metadata": {},
   "source": [
    "El sistema eléctrico colombiano, conocido como Sistema Interconectado Nacional (SIN), es una red compleja que involucra la generación, transmisión, distribución y comercialización de energía eléctrica. Su correcto funcionamiento es vital para el desarrollo económico y social del país, por lo que resulta crucial comprender su dinámica y los factores que influyen en su comportamiento.\n",
    "\n",
    "En este proyecto, nos proponemos analizar y modelar el comportamiento técnico y económico del SIN.  En primer lugar, con el fin de comprender el comportamiento general del precio del sistema interconectado nacional, analizando los patrones y tendencias que caracterizan el precio de la energía eléctrica en el SIN y su evolución en el tiempo.  Además, de determinar la correlación del precio con las otras variables del sistema de generación eléctrica y otras variables relevantes del sistema de generación.  Luego se continuará, con el ejercicio de comprender la influencia de los fenómenos climáticos en el comportamiento del precio de la energía eléctrica.\n",
    "\n",
    "Y finalmente, encontrar la influencia del consumo de combustible en el precio de la electricidad, analizando la relación entre el consumo de combustibles fósiles, como el carbón y el gas natural, y el precio de la electricidad en el SIN."
   ]
  },
  {
   "cell_type": "markdown",
   "metadata": {},
   "source": [
    "## Objetivo General\n",
    "---"
   ]
  },
  {
   "cell_type": "markdown",
   "metadata": {},
   "source": [
    "Analizar y modelar el comportamiento técnico y económico del sistema eléctrico colombiano en un proyecto de analitica sobre un conjunto de datos,  utilizando técnicas de análisis de datos, aprendizaje automático y visualización, con el fin de comprender su dinámica y generar recomendaciones para su optimización."
   ]
  },
  {
   "cell_type": "markdown",
   "metadata": {
    "id": "D0jptNzkkvIc"
   },
   "source": [
    "### Objetivos específicos\n",
    "---"
   ]
  },
  {
   "cell_type": "markdown",
   "metadata": {
    "id": "tibLYvPHfAPf"
   },
   "source": [
    "Los objetivos del presente proyecto de análisis de datos son:\n",
    "\n",
    "1. Comprender el comportamiento general del precio del sistema interconectado nacional.\n",
    "2. Determinar la correlación del precio con las otras variables del sistema de generación eléctrica.\n",
    "3. Comprender la influencia de los fenómenos climáticos en el precio del SIN.\n",
    "4. Encontrar la influencia del consumo de combustible en el precio de la electricidad.\n"
   ]
  }
 ],
 "metadata": {
  "colab": {
   "authorship_tag": "ABX9TyPpkOp5z4++Qo2VPzdU2xlV",
   "collapsed_sections": [],
   "mount_file_id": "1wiWP4VO74gDxJR7REftq_KV5rMGcx3p7",
   "name": "Notebook Principal Proyecto Final Julian Santos con Mapa.ipynb",
   "provenance": [],
   "toc_visible": true
  },
  "kernelspec": {
   "display_name": "Python 3 (ipykernel)",
   "language": "python",
   "name": "python3"
  },
  "language_info": {
   "codemirror_mode": {
    "name": "ipython",
    "version": 3
   },
   "file_extension": ".py",
   "mimetype": "text/x-python",
   "name": "python",
   "nbconvert_exporter": "python",
   "pygments_lexer": "ipython3",
   "version": "3.9.7"
  }
 },
 "nbformat": 4,
 "nbformat_minor": 1
}
