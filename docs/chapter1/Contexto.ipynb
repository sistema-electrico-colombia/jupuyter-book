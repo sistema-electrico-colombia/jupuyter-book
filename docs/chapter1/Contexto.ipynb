{
 "cells": [
  {
   "cell_type": "markdown",
   "metadata": {
    "id": "8Gfav9vwi_Yx"
   },
   "source": [
    "# Contexto\n",
    "---"
   ]
  },
  {
   "cell_type": "markdown",
   "metadata": {},
   "source": [
    "## Definición del problema\n",
    "---"
   ]
  },
  {
   "cell_type": "markdown",
   "metadata": {},
   "source": [
    "El Sistema Interconectado Nacional (SIN) de Colombia es una infraestructura crítica para el desarrollo económico y social del país. Su correcto funcionamiento depende de la comprensión profunda de su dinámica y los factores que influyen en su comportamiento, especialmente en lo que respecta al precio de la energía eléctrica.\n",
    "\n",
    "Sin embargo, existe una brecha significativa en el conocimiento actual sobre el comportamiento del precio en el SIN. Si bien se dispone de datos masivos sobre el sistema, estos no han sido analizados de manera integral para identificar patrones, tendencias y relaciones causales entre las variables relevantes.\n",
    "\n",
    "Esta falta de comprensión dificulta la toma de decisiones informadas por parte de las autoridades y actores del sector energético, lo que puede llevar a ineficiencias, inestabilidad y altos costos en el sistema eléctrico.\n",
    "\n",
    "Específicamente, se presentan las siguientes problemáticas:\n",
    "\n",
    "- Falta de comprensión del comportamiento general del precio de la electricidad en el SIN: No se conocen con precisión los patrones y tendencias que caracterizan el precio, ni los factores que lo determinan en el corto, mediano y largo plazo.\n",
    "\n",
    "- Desconocimiento de la correlación entre el precio y otras variables del sistema de generación: Se desconoce la relación que existe entre el precio de la electricidad y variables como la oferta, la demanda, la capacidad de generación y la participación de las diferentes fuentes energéticas.\n",
    "\n",
    "- Incertidumbre sobre la influencia de los fenómenos climáticos en el precio del SIN: No se ha evaluado el impacto de variables climáticas, como la precipitación, la temperatura y la radiación solar, en el comportamiento del precio de la energía eléctrica.\n",
    "\n",
    "- Falta de conocimiento sobre la relación entre el consumo de combustible y el precio de la electricidad: No se ha analizado en profundidad la relación entre el consumo de combustibles fósiles, como el carbón y el gas natural, y el precio de la electricidad en el SIN.\n",
    "\n",
    "Estas problemáticas generan las siguientes consecuencias:\n",
    "\n",
    "- Ineficiencias en la operación del SIN: La falta de comprensión del comportamiento del precio dificulta la toma de decisiones óptimas para la gestión del sistema, lo que puede llevar a un uso ineficiente de los recursos y a un aumento de los costos.\n",
    "\n",
    "- Inestabilidad en el mercado eléctrico: La incertidumbre sobre los factores que determinan el precio puede generar inestabilidad en el mercado, afectando a los consumidores, los generadores y las empresas comercializadoras de energía.\n",
    "\n",
    "- Dificultades para la planeación del sistema eléctrico: La falta de conocimiento sobre el comportamiento futuro del precio dificulta la planeación a largo plazo del sistema eléctrico, lo que puede llevar a inversiones inadecuadas o a la falta de capacidad para atender la demanda futura."
   ]
  },
  {
   "cell_type": "markdown",
   "metadata": {
    "id": "Kv8ms7BkjOeQ"
   },
   "source": [
    "## Situación actual\n",
    "---"
   ]
  },
  {
   "cell_type": "markdown",
   "metadata": {
    "id": "eQU2JaOZ0Psa"
   },
   "source": [
    "Colombia es un país que se enorgullese de que el 69.25% de su energía eléctrica es generada con recursos renovables, los cuales constituyen una matriz energetica no fósil muy variada con diferentes fuentes, tales como la energía hidráulica, la biomasa, la energía eólica y la energía solar, sin embargo, el 98.5% de esa energía es generada con recursos hidráulicos a gran escala. \n",
    "\n",
    "Como consecuencia de esa depedencia a los grandes embalses, se tiene un sistema eléctrico que es muy sensible a fenomenos climáticos como el fenomeno del niño.\n",
    "\n",
    "*Tabla 1. Capacidad efectiva neta del Sistema Interconectado Nacional (SIN) por tipo de recurso natural, Fuente: Informe 2019 XM S.A. E.S.P. [1]*\n",
    "\n",
    "| Fuente de energía               | 2018 MW   | 2019 MW   | Participación (%) | Variación 2019 vs. 2018 |\n",
    "|---------------------------------|-----------|-----------|-------------------|-------------------------|\n",
    "| **Fuentes de energía No Renovable**\n",
    "| Combustible fósil               | 5,308.14  | 5,369.74  | 30.75%            | 1.16%                   |\n",
    "| Total No Renovable              | 5,308.14  | 5,369.74  | 30.75%            | 1.16%                   |\n",
    "| **Fuentes de energía Renovable**    \n",
    "| Biomasa                         | 139.60    | 139.60    | 0.80%             | 0.00%                   |\n",
    "| Eólica                          | 18.42     | 18.42     | 0.11%             | 0.00%                   |\n",
    "| Hidráulica                      | 11,836.57 | 11,916.61 | 68.24%            | 0.68%                   |\n",
    "| Solar                           | 9.80      | 17.98     | 0.10%             | 83.43%                  |\n",
    "| **Total Renovable**                 | **12,004.39** | **12,092.60** | **69.25%**           | **0.73%**                   |\n",
    "| **Total general**                  | **17,312.53** | **17,462.34** | **100.00%**           | **0.87%**                   |\n",
    "\n",
    "Para contrarrestar esa dependecia a la energía hidráulica, el país inició el proceso de incoporación de mas activos de generacion térmica con combustibles fósiles.\n",
    "\n",
    "Es por esta razón que **el objetivo** principal de este proyecto es hacer un seguimiento del sistema eléctrico Colombiano y determinar su relacion con otras variables del sistema, para así tener una base con la cual analizar en el futuro las emisiones de los nuevos activos térmicos.\n",
    "\n"
   ]
  },
  {
   "cell_type": "markdown",
   "metadata": {
    "id": "RZcf_62uyDNC"
   },
   "source": [
    "## Glosario\n",
    "---\n",
    "\n",
    "*   **XM S.A. E.S.P.**: Es una empresa que pertenece al grupo ISA, se encarga de la administración del mercado mayorista de electricidad de Colombia, también opera el Sistema Interconectado Nacional, integrando así, sus recursos de generación, interconexión y transmisión de energía eléctrica.[3]  \n",
    "*   **Emisiones Contaminantes**: Es la descarga de fluidos gaseosos, puros o con sustancias en suspensión que sean residuos de la actividad humana o de la naturaleza y que causan efectos adversos en la atmósfera de la tierra, como lo es el efecto invernadero o lluvia ácida.\n",
    "* $CO_{2}$: Dioxido de carbon, gas contaminante de la atmosfera el cual produce efecto invernadero.\n",
    "* $CH_{4}$: Metano, gas contaminante de la atmosfera, el cual produce efecto invernadero con un potencial de calentamiento global 21 veces mayor que el $CO_{2}$.\n",
    "* $N_{2}O$: Oxido Nitroso, gas contaminante de la atmosfera, el cual produce efecto invernadero con un potencial de calentamiento global 310 veces mayor que el $CO_{2}$.\n",
    "* $CO_{2 eq}$: Emisiones de un gas equivalentes a $CO_{2}$, se calcula con la siguiente formula $Ton CO_{2 eq} = (TonGas) (GWP)$, donde GWP es el potencial de calentamiento global.\n",
    "\n",
    "\n"
   ]
  },
  {
   "cell_type": "markdown",
   "metadata": {},
   "source": [
    "## El suministro de energía como factor crítico en la industria pesada: optimización mediante Inteligencia Artificial\n",
    "---\n",
    "\n",
    "El suministro de energía constituye un factor fundamental en el sector de la industria pesada, ya que alimenta las unidades de proceso y las operaciones, siendo indispensable para su correcto funcionamiento (American Society of Mechanical Engineers, 2019). En este sentido, las empresas del sector deben garantizar un flujo de energía entrante al mínimo costo posible, lo cual representa un desafío complejo (International Energy Agency, 2021).\n",
    "\n",
    "De hecho, la energía se puede considerar como la \"materia prima\" más importante en la industria pesada, debido a su impacto significativo en los procesos productivos. Sin embargo, su elevado costo representa un obstáculo considerable para las empresas (U.S. Energy Information Administration, 2023).\n",
    "\n",
    "Por consiguiente, la optimización del consumo de energía se convierte en una prioridad para las empresas del sector, lo que se traduce en la reducción del consumo de recursos como el petróleo, el carbono, el gas natural y la electricidad (Rodríguez-Rodríguez & Florido-Arévalo, 2020). Adicionalmente, existe una relación directa entre el consumo de energía y las emisiones de efecto invernadero, por lo que una disminución en el primero conlleva una reducción proporcional en las segundas (Intergovernmental Panel on Climate Change, 2021).\n",
    "\n",
    "En este contexto, la Inteligencia Artificial (IA) emerge como una herramienta de gran potencial para optimizar el consumo de energía en la industria pesada. La aplicación de modelos de IA permite analizar patrones de consumo, identificar áreas de mejora y desarrollar estrategias eficientes para la gestión energética (European Commission, 2023).\n"
   ]
  },
  {
   "cell_type": "markdown",
   "metadata": {},
   "source": [
    "### ¿Cómo se aplica la IA para la optimización energética?\n",
    "\n",
    "Para modelar este problema es necesario disponer de datos sobre el consumo de energía durante muchos años, por supuesto, si es posible. Sin embargo, la serie temporal de energía utilizada no es suficiente, se necesita otro tipo de datos para tener un buen modelo que optimice la energía en toda la instalación.\n",
    "\n",
    "Ese tipo de datos es el flujo de energía dentro de la planta, que en palabras simples representa cómo las unidades de proceso intercambian energía entre ellas y el medio ambiente. Por ejemplo, en la simulación de un proceso de limpieza de CO2 y H2S de gas natural, tiene varias unidades de proceso (máquinas) que intercambian materiales y energía entre ellas mediante tuberías para eliminar CO2 y H2S del gas natural crudo. En este proceso es necesario consumir calor para el rehervidor del regenerador y electricidad o aire comprimido para las bombas y la instrumentación.\n",
    "Por lo tanto, con los flujos de energía del proceso y los datos históricos, es posible entrenar una red neuronal profunda para encontrar puntos de optimización, patrones de flujo de energía u optimizar los parámetros del proceso para reducir el uso de energía sin comprometer la productividad del proceso."
   ]
  },
  {
   "cell_type": "markdown",
   "metadata": {},
   "source": [
    "### Determinación de parámetros de proceso: Sensores Virtuales - Gemelos Digitales\n",
    "\n",
    "Todo proceso industrial pesado debe monitorear todos sus parámetros como temperatura, presión, flujo volumétrico, concentración, etc. Para algunos casos, como las refinerías de petróleo, es muy fácil calcular estos parámetros sin medir. Sin embargo, en la mayoría de los casos, esto no es una tarea fácil. En industrias como la biotecnológica-farmacéutica, la alimentaria, la siderúrgica, la del plástico y muchas otras, es muy difícil crear modelos fisicoquímicos capaces de calcular los parámetros del proceso. Por ello, las técnicas de Inteligencia Artificial y Deep Learning vienen a hacer eso, estimar parámetros de proceso en base a datos históricos funcionando como sensores virtuales .\n",
    "\n",
    "Para los operadores e ingenieros, poder conocer un parámetro sin una medición real es muy poderoso, pueden trabajar con confianza cuando falla un sensor físico o pueden realizar una medición virtual cuando no hay un sensor físico presente. "
   ]
  },
  {
   "cell_type": "markdown",
   "metadata": {},
   "source": [
    "## Incorporación de conocimiento humano en sensores virtuales para la industria pesada\n",
    "\n",
    "La creación de sensores virtuales en la industria pesada requiere del entrenamiento de modelos con todas las variables operativas relevantes. Sin embargo, este enfoque puede ir más allá al incorporar conocimiento humano adicional, como la experiencia específica de los operadores y su conocimiento tácito durante el proceso.\n",
    "\n",
    "La integración de estas características humanas en los modelos de sensores virtuales ofrece diversos beneficios. En primer lugar, permite una mejor comprensión del proceso, ya que no solo se limita a datos cuantitativos sino que también incorpora el conocimiento tácito y la intuición de los expertos.\n",
    "\n",
    "En segundo lugar, facilita el relevo generacional en la industria, especialmente en procesos complejos como la fabricación de cemento, la refinación de petróleo o la producción a gran escala. Al capturar y preservar el conocimiento de los operadores experimentados, se asegura la continuidad del conocimiento y la experiencia en el tiempo, incluso cuando los expertos se retiran.\n",
    "\n",
    "En resumen, la incorporación de conocimiento humano en los sensores virtuales representa un avance significativo en la industria pesada. Permite una mejor comprensión de los procesos, facilita el relevo generacional y, en última instancia, contribuye a mejorar la eficiencia, la seguridad y la calidad de la producción."
   ]
  },
  {
   "cell_type": "markdown",
   "metadata": {},
   "source": [
    "## Detección de fugas \n",
    "\n",
    "Los derrames son un problema común que puede ocurrir en cualquier industria que procese líquidos. Si la planta es muy grande, hay varios lugares donde no hay supervisión humana. Aquí es donde los modelos de aprendizaje profundo de visión por computadora pueden ayudar a la industria. Por lo tanto, instalar cámaras no supervisadas es una inversión relativamente barata, conectarlas a un sistema mediante un algoritmo de aprendizaje profundo entrenado para detectar fugas de líquido y enviar una alarma, es aún más fácil.\n",
    "\n",
    "Sin embargo, la parte difícil es tener un conjunto de datos muy bueno para entrenar la red neuronal profunda. Una de las razones es que es obligatorio tener imágenes del líquido real que procesa la empresa. Empresas como Landing.AI están trabajando para superar estas dificultades y ofrecer buenos modelos a la industria."
   ]
  },
  {
   "cell_type": "markdown",
   "metadata": {},
   "source": [
    "## Digitalización de Documentos de Ingeniería  \n",
    "\n",
    "Antes de su construcción, toda planta de proceso de industria pesada debe ejecutar todo el proceso de ingeniería, que consta de tres pasos globales, ingeniería Conceptual, ingeniería básica e ingeniería de detalle. Durante estos pasos, los ingenieros generan muchos documentos como diagramas, listas de equipos, listas de instrumentación, dibujos y muchos otros. Estos documentos son obligatorios para tener toda la información necesaria para construir las instalaciones diseñadas por el contratista constructor.\n",
    "\n",
    "En ocasiones es necesario realizar cambios o mejoras a una planta que ya está en funcionamiento, y generalmente los documentos no están completos o incluso no digitalizados, este tipo de proyectos se denominan proyectos Brownfield. Entonces, las empresas de industrias pesadas contratan una empresa de ingeniería para digitalizar los documentos, luego la empresa de ingeniería contrata a muchos ingenieros jóvenes para realizar la tarea manualmente, gastando mucho dinero y tiempo en una tarea que se puede realizar utilizando visión por computadora. Puede parecer trivial, pero una herramienta para optimizar estas tareas es muy valiosa en las empresas de ingeniería.\n",
    "\n",
    "Por ello, existen empresas que ofrecen herramientas para digitalizar diagramas de procesos e instrumentación (P&ID) utilizando visión por computadora con modelos de aprendizaje profundo muy bien entrenados y sintonizados para detectar símbolos y texto, los datos ya extraídos podrían exportarse a PDF o CSV para ser procesados ​​en otros software.   \n",
    "\n",
    "Estos son algunos ejemplos de cómo se podría utilizar la IA para mejorar las operaciones industriales pesadas. Para que pueda tener una comprensión más amplia de los usos en el mundo real de esta increíble tecnología."
   ]
  }
 ],
 "metadata": {
  "colab": {
   "authorship_tag": "ABX9TyPpkOp5z4++Qo2VPzdU2xlV",
   "collapsed_sections": [],
   "mount_file_id": "1wiWP4VO74gDxJR7REftq_KV5rMGcx3p7",
   "name": "Notebook Principal Proyecto Final Julian Santos con Mapa.ipynb",
   "provenance": [],
   "toc_visible": true
  },
  "kernelspec": {
   "display_name": "Python 3 (ipykernel)",
   "language": "python",
   "name": "python3"
  },
  "language_info": {
   "codemirror_mode": {
    "name": "ipython",
    "version": 3
   },
   "file_extension": ".py",
   "mimetype": "text/x-python",
   "name": "python",
   "nbconvert_exporter": "python",
   "pygments_lexer": "ipython3",
   "version": "3.9.7"
  }
 },
 "nbformat": 4,
 "nbformat_minor": 1
}
