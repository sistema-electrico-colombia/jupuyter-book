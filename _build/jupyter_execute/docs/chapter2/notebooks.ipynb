{
 "cells": [
  {
   "cell_type": "markdown",
   "metadata": {},
   "source": [
    "# Jupyter Notebooks (.ipynb)\n",
    "\n",
    "Los ficheros Jupyter Notebooks (.ipynb) también pueden añadirse a nuestro libro, \n",
    "permitiendo la visualización y ejecución de bloques de código y sus outputs. \n",
    "\n",
    "## Celdas markdown\n",
    "\n",
    "Permiten insertar imágenes, video, código HTML, etc. Ejemplo, esta imagen:\n",
    "<div>\n",
    "<img src=\"https://www.cultofmac.com/wp-content/uploads/2012/07/ipad-e-book.jpg\" width=\"300\"/>\n",
    "</div>\n",
    "<div>\n",
    "&nbsp;\n",
    "</div>\n",
    "\n",
    "<!--![](https://jero2760.github.io/jupyter-book-ejemplo/_static/logo.png)-->\n",
    "\n",
    "También podemos insertar expresiones matemáticas como $e^{i\\pi} + 1 = 0$ y\n",
    "\n",
    "$$ \\frac{\\partial \\rho}{\\partial t} + \\nabla \\cdot \\vec{j} = 0 \\,. \\label{eq:continuity} $$\n",
    "\n",
    "O también:\n",
    "\n",
    "$$\n",
    "\\begin{equation}\n",
    "    \\int_{\\partial\\Omega} \\omega = \\int_{\\Omega} \\mathrm{d}\\omega \\,.\n",
    "    \\label{eq:stokes}\n",
    "\\end{equation}\n",
    "$$\n",
    "\n",
    "## Celdas MyST markdown\n",
    "\n",
    "Las celdas MyST markdown funcionan en Jupyter Notebooks de modo similar. Para más información sobre MyST markdown, ver\n",
    "[the MyST guide in Jupyter Book](https://jupyterbook.org/content/myst.html),\n",
    "y [the MyST markdown documentation](https://myst-parser.readthedocs.io/en/latest/).\n",
    "\n",
    "## Celdas de código y outputs\n",
    "\n",
    "Jupyter Book permite la visualización de los bloques de código y outputs de los ficheros .ipynb.\n",
    "Por ejemplo, esta es una muestra de código que utiliza Matplotlib:"
   ]
  },
  {
   "cell_type": "code",
   "execution_count": null,
   "metadata": {},
   "outputs": [],
   "source": [
    "from matplotlib import rcParams, cycler\n",
    "import matplotlib.pyplot as plt\n",
    "import numpy as np\n",
    "plt.ion()"
   ]
  },
  {
   "cell_type": "code",
   "execution_count": null,
   "metadata": {},
   "outputs": [],
   "source": [
    "# Fixing random state for reproducibility\n",
    "np.random.seed(19680801)\n",
    "\n",
    "N = 10\n",
    "data = [np.logspace(0, 1, 100) + np.random.randn(100) + ii for ii in range(N)]\n",
    "data = np.array(data).T\n",
    "cmap = plt.cm.coolwarm\n",
    "rcParams['axes.prop_cycle'] = cycler(color=cmap(np.linspace(0, 1, N)))\n",
    "\n",
    "\n",
    "from matplotlib.lines import Line2D\n",
    "custom_lines = [Line2D([0], [0], color=cmap(0.), lw=4),\n",
    "                Line2D([0], [0], color=cmap(.5), lw=4),\n",
    "                Line2D([0], [0], color=cmap(1.), lw=4)]\n",
    "\n",
    "fig, ax = plt.subplots(figsize=(10, 5))\n",
    "lines = ax.plot(data)\n",
    "ax.legend(custom_lines, ['Cold', 'Medium', 'Hot']);"
   ]
  },
  {
   "cell_type": "markdown",
   "metadata": {},
   "source": [
    "Las posibilidades son muy diversas e incluyen el uso de outputs que permiten la interactividad en la lectura del libro. Para más información, ver el capítulo sobre [funciones interactivas](https://jero2760.github.io/jupyter-book-ejemplo/docs/chapter2/interactividad.html)."
   ]
  }
 ],
 "metadata": {
  "kernelspec": {
   "display_name": "Python 3",
   "language": "python",
   "name": "python3"
  },
  "language_info": {
   "codemirror_mode": {
    "name": "ipython",
    "version": 3
   },
   "file_extension": ".py",
   "mimetype": "text/x-python",
   "name": "python",
   "nbconvert_exporter": "python",
   "pygments_lexer": "ipython3",
   "version": "3.7.0"
  },
  "widgets": {
   "application/vnd.jupyter.widget-state+json": {
    "state": {},
    "version_major": 2,
    "version_minor": 0
   }
  }
 },
 "nbformat": 4,
 "nbformat_minor": 4
}