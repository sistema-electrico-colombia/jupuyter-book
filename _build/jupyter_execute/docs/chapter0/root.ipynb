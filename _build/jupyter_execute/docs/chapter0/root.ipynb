{
 "cells": [
  {
   "cell_type": "markdown",
   "metadata": {},
   "source": [
    "#  Análisis y Modelado Sistema Eléctrico Colombiano en el Periodo de 2010-2024\n",
    "\n",
    "Trabajo Final Asignatura: Herramientas de Big Data\n",
    "Profesor: Rodolfo Meza\n"
   ]
  },
  {
   "cell_type": "markdown",
   "metadata": {},
   "source": [
    "### **Integrantes**\n",
    "------"
   ]
  },
  {
   "cell_type": "markdown",
   "metadata": {},
   "source": [
    "![image.png](./img/integrantes.png)"
   ]
  },
  {
   "cell_type": "markdown",
   "metadata": {},
   "source": [
    "### **Repositorios**\n",
    "----\n",
    "\n",
    "Todos los repositorios de este trabajo son publicos y se encuentran en el siguiente link:\n",
    "https://github.com/orgs/sistema-electrico-colombia/repositories\n",
    "\n",
    "\n",
    "El dashboard de este proyecto se encuentra en este link: https://electrico-colombia.streamlit.app"
   ]
  },
  {
   "cell_type": "markdown",
   "metadata": {},
   "source": [
    "### Objetivo General\n",
    "----\n",
    "Analizar las variables operativas y climáticas que influyen en el comportamiento del precio en el Sistema Interconectado Nacional (SIN), con el fin de determinar las correlaciones entre el precio, la demanda y otras variables del sistema de generación eléctrica, así como la influencia del consumo de combustible y fenómenos climáticos en estos factores."
   ]
  },
  {
   "cell_type": "markdown",
   "metadata": {},
   "source": [
    "### **Introducción**\n",
    "------"
   ]
  },
  {
   "cell_type": "markdown",
   "metadata": {},
   "source": [
    "El sistema eléctrico colombiano, conocido como Sistema Interconectado Nacional (SIN), es una red compleja que involucra la generación, transmisión, distribución y comercialización de energía eléctrica. Su correcto funcionamiento es vital para el desarrollo económico y social del país, por lo que resulta crucial comprender su dinámica y los factores que influyen en su comportamiento.\n",
    "\n",
    "En este proyecto, nos proponemos analizar y modelar el comportamiento técnico y económico del SIN.  En primer lugar, con el fin de comprender el comportamiento general del precio del sistema interconectado nacional, analizando los patrones y tendencias que caracterizan el precio de la energía eléctrica en el SIN y su evolución en el tiempo.  Además, de determinar la correlación del precio con las otras variables del sistema de generación eléctrica y otras variables relevantes del sistema de generación.  Luego se continuará, con el ejercicio de comprender la influencia de los fenómenos climáticos en el comportamiento del precio de la energía eléctrica.\n",
    "\n",
    "Y finalmente, encontrar la influencia del consumo de combustible en el precio de la electricidad, analizando la relación entre el consumo de combustibles fósiles, como el carbón y el gas natural, y el precio de la electricidad en el SIN."
   ]
  },
  {
   "cell_type": "markdown",
   "metadata": {},
   "source": [
    "### **Objetivo General**\n",
    "---"
   ]
  },
  {
   "cell_type": "markdown",
   "metadata": {},
   "source": [
    "Analizar y modelar el comportamiento técnico y económico del sistema eléctrico colombiano en un proyecto de analitica sobre un conjunto de datos,  utilizando técnicas de análisis de datos, aprendizaje automático y visualización, con el fin de comprender su dinámica y generar recomendaciones para su optimización."
   ]
  },
  {
   "cell_type": "markdown",
   "metadata": {
    "id": "D0jptNzkkvIc"
   },
   "source": [
    "### **Objetivos específicos**\n",
    "---"
   ]
  },
  {
   "cell_type": "markdown",
   "metadata": {
    "id": "tibLYvPHfAPf"
   },
   "source": [
    "Los objetivos del presente proyecto de análisis de datos son:\n",
    "\n",
    "1. Comprender el comportamiento general del precio del sistema interconectado nacional.\n",
    "2. Determinar la correlación del precio con las otras variables del sistema de generación eléctrica.\n",
    "3. Comprender la influencia de los fenómenos climáticos en el precio del SIN.\n",
    "4. Encontrar la influencia del consumo de combustible en el precio de la electricidad.\n"
   ]
  }
 ],
 "metadata": {
  "colab": {
   "authorship_tag": "ABX9TyPpkOp5z4++Qo2VPzdU2xlV",
   "collapsed_sections": [],
   "mount_file_id": "1wiWP4VO74gDxJR7REftq_KV5rMGcx3p7",
   "name": "Notebook Principal Proyecto Final Julian Santos con Mapa.ipynb",
   "provenance": [],
   "toc_visible": true
  },
  "kernelspec": {
   "display_name": "Python 3 (ipykernel)",
   "language": "python",
   "name": "python3"
  },
  "language_info": {
   "codemirror_mode": {
    "name": "ipython",
    "version": 3
   },
   "file_extension": ".py",
   "mimetype": "text/x-python",
   "name": "python",
   "nbconvert_exporter": "python",
   "pygments_lexer": "ipython3",
   "version": "3.9.7"
  }
 },
 "nbformat": 4,
 "nbformat_minor": 1
}